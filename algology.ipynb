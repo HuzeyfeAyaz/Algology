{
 "cells": [
  {
   "cell_type": "markdown",
   "metadata": {},
   "source": [
    "# Algology Data\n",
    "\n",
    "In this data-set our goal is observing how beneficial procedure was for the patients."
   ]
  },
  {
   "cell_type": "markdown",
   "metadata": {},
   "source": [
    "### Inserting Modules"
   ]
  },
  {
   "cell_type": "code",
   "execution_count": 1,
   "metadata": {},
   "outputs": [],
   "source": [
    "import numpy as np\n",
    "import pandas as pd\n",
    "import matplotlib.pyplot as plt\n",
    "from sklearn.model_selection import train_test_split\n",
    "from sklearn.preprocessing import StandardScaler\n",
    "from sklearn.metrics import roc_curve\n",
    "from sklearn.metrics import roc_auc_score\n",
    "from sklearn.model_selection import cross_val_score\n",
    "from sklearn.model_selection import GridSearchCV\n",
    "from sklearn.pipeline import Pipeline\n",
    "import re\n",
    "# import warnings\n",
    "# warnings.simplefilter('ignore')\n",
    "\n",
    "# Classifiers\n",
    "from sklearn.linear_model import LogisticRegression\n",
    "from sklearn.ensemble import RandomForestClassifier\n",
    "from sklearn.svm import SVC"
   ]
  },
  {
   "cell_type": "markdown",
   "metadata": {},
   "source": [
    "### Inserting Data"
   ]
  },
  {
   "cell_type": "code",
   "execution_count": 2,
   "metadata": {},
   "outputs": [],
   "source": [
    "data = pd.read_excel(\"2018 algoloji işlemler(Original).xlsx\", sheet_name='ocak-nisan 2018')"
   ]
  },
  {
   "cell_type": "markdown",
   "metadata": {},
   "source": [
    "### To find unique values of cells have more than one value (seperated by '+' | ',' | '/')"
   ]
  },
  {
   "cell_type": "code",
   "execution_count": 3,
   "metadata": {},
   "outputs": [],
   "source": [
    "columns = ['Diagnosis', 'R/L', 'Procedure', 'Approach']  # columns that include typos\n",
    "unique_values = {}  # keys, column name: values, unique values have typos\n",
    "for column in columns:\n",
    "    for i in np.unique(data[column].astype('str')):\n",
    "        unique_values.setdefault(column, [])\n",
    "        if \"+\" in i or \"/\" in i or \",\" in i:\n",
    "            unique_values[column].append(i)\n",
    "splitted_unique_vals = {}  # keys, typos: values, splitted values which typos fixed\n",
    "for key, values in unique_values.items():\n",
    "    for val in values:\n",
    "        splitted_val = re.split('\\+|,|/',val)\n",
    "        for idx in range(len(splitted_val)):\n",
    "            splitted_val[idx] = splitted_val[idx].strip()\n",
    "        splitted_unique_vals[val] = splitted_val"
   ]
  },
  {
   "cell_type": "markdown",
   "metadata": {},
   "source": [
    "### Calculating how many row should belong to same individual with different types\n",
    "\n",
    "Length keeps the number of new samples for one row.\n",
    "We multiply each cell length because each row may have more than one cell includes typos."
   ]
  },
  {
   "cell_type": "code",
   "execution_count": 4,
   "metadata": {},
   "outputs": [],
   "source": [
    "total_counts = {} # keys, row number: values, counts of how many row belongs to same sample\n",
    "counter = -1\n",
    "for row in data.values:\n",
    "    counter += 1\n",
    "    length = 1\n",
    "    for key, value in unique_values.items():\n",
    "        for cell in value:\n",
    "            if cell in row:\n",
    "                length *= len(splitted_unique_vals[cell])\n",
    "    total_counts[counter] = length"
   ]
  },
  {
   "cell_type": "markdown",
   "metadata": {},
   "source": [
    "### To get new edited data with new samples "
   ]
  },
  {
   "cell_type": "code",
   "execution_count": 5,
   "metadata": {},
   "outputs": [],
   "source": [
    "edited_array = []\n",
    "for row, row_num in zip(data.values, sorted(total_counts)):\n",
    "    new_rows = []\n",
    "    if total_counts[row_num] == 1:\n",
    "        edited_array.append(row)\n",
    "        continue\n",
    "    for len_ in range(total_counts[row_num]):\n",
    "        new_rows.append(row)\n",
    "    for cell in row:\n",
    "        if cell in splitted_unique_vals:\n",
    "            part = len(new_rows)//len(splitted_unique_vals[cell])\n",
    "            start = 0\n",
    "            end = part\n",
    "            for len_ in range(len(splitted_unique_vals[cell])):\n",
    "                for i in range(start,end):\n",
    "                    new_rows[i] = np.where(new_rows[i]==cell, splitted_unique_vals[cell][len_], new_rows[i])\n",
    "                start = end\n",
    "                end += part\n",
    "    edited_array.extend(new_rows)\n",
    "edited_array = np.array(edited_array)"
   ]
  },
  {
   "cell_type": "code",
   "execution_count": 6,
   "metadata": {},
   "outputs": [],
   "source": [
    "edited_data = pd.DataFrame(edited_array, columns = data.columns)\n",
    "# edited_data.to_excel(\"2018 algoloji işlemler(Edited by Huzeyfe).xlsx\")"
   ]
  }
 ],
 "metadata": {
  "kernelspec": {
   "display_name": "Python 3",
   "language": "python",
   "name": "python3"
  },
  "language_info": {
   "codemirror_mode": {
    "name": "ipython",
    "version": 3
   },
   "file_extension": ".py",
   "mimetype": "text/x-python",
   "name": "python",
   "nbconvert_exporter": "python",
   "pygments_lexer": "ipython3",
   "version": "3.7.3"
  }
 },
 "nbformat": 4,
 "nbformat_minor": 2
}
