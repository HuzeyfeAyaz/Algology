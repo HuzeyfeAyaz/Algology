{
 "cells": [
  {
   "cell_type": "markdown",
   "metadata": {},
   "source": [
    "# Algology Data\n",
    "\n",
    "In this data-set our goal is observing how beneficial procedure was for the patients."
   ]
  },
  {
   "cell_type": "markdown",
   "metadata": {},
   "source": [
    "### Inserting Modules"
   ]
  },
  {
   "cell_type": "code",
   "execution_count": 1,
   "metadata": {},
   "outputs": [],
   "source": [
    "import numpy as np\n",
    "import pandas as pd\n",
    "import matplotlib.pyplot as plt\n",
    "from sklearn.model_selection import train_test_split\n",
    "from sklearn.preprocessing import StandardScaler\n",
    "from sklearn.model_selection import GridSearchCV\n",
    "from sklearn.pipeline import Pipeline\n",
    "from impyute.imputation.cs import fast_knn\n",
    "from knn_imputer import knn_impute\n",
    "import matplotlib.patches as mpatches\n",
    "from sklearn.metrics import mean_absolute_error\n",
    "from sklearn.metrics import mean_squared_error\n",
    "from sklearn.metrics import r2_score\n",
    "import sys\n",
    "import re\n",
    "import warnings\n",
    "warnings.simplefilter('ignore')\n",
    "\n",
    "# Classifiers\n",
    "from sklearn.linear_model import LogisticRegression\n",
    "from sklearn.ensemble import RandomForestClassifier\n",
    "from sklearn.ensemble import VotingRegressor\n",
    "from sklearn.ensemble import AdaBoostRegressor\n",
    "from sklearn.tree import DecisionTreeRegressor\n",
    "from sklearn.neighbors import KNeighborsRegressor\n",
    "from sklearn.ensemble import BaggingRegressor"
   ]
  },
  {
   "cell_type": "markdown",
   "metadata": {},
   "source": [
    "### calculate_scores function, finds the best estimator with using find_best_estimator function, than it calculates the MAE, MSE and R2 scores."
   ]
  },
  {
   "cell_type": "code",
   "execution_count": 2,
   "metadata": {},
   "outputs": [],
   "source": [
    "def find_best_estimator(classifier, X_train, y_train, param_grid):\n",
    "    gs = GridSearchCV(estimator=classifier, \n",
    "                      param_grid=param_grid, \n",
    "                      scoring='f1_micro',\n",
    "                      cv=7,\n",
    "                      n_jobs=-1)\n",
    "    gs = gs.fit(X_train, y_train)\n",
    "    return gs.best_estimator_\n",
    "\n",
    "param_range = [0.001, 0.01, 0.1, 1.0, 10.0, 100.0]\n",
    "def calculate_scores(X_train, X_test, y_train, y_test, classifier=False, param_range=param_range):\n",
    "    \n",
    "    if str(type(classifier)) == \"<class 'bool'>\":\n",
    "        # finding best parameters for the classifier\n",
    "        classifier = Pipeline([['sc', StandardScaler()], ['clf', LogisticRegression(random_state=0)]])\n",
    "        lr_grid = [{'clf__C': param_range, 'clf__penalty': ['l1','l2']}]\n",
    "        classifier = find_best_estimator(classifier, X_train, y_train, lr_grid)\n",
    "    \n",
    "    # finding scores\n",
    "    classifier.fit(X_train, y_train)\n",
    "    y_pred = classifier.predict(X_test)\n",
    "    mae_score = mean_absolute_error(y_test, y_pred)\n",
    "    mse_score = mean_squared_error(y_test, y_pred)\n",
    "    r2_score_ = r2_score(y_test, y_pred)\n",
    "    return (mae_score, mse_score, r2_score_)"
   ]
  },
  {
   "cell_type": "markdown",
   "metadata": {},
   "source": [
    "### plot_error_scores functions plots the MAE, MSE, R2 error scores of classifiers"
   ]
  },
  {
   "cell_type": "code",
   "execution_count": 3,
   "metadata": {},
   "outputs": [],
   "source": [
    "def plot_error_scores(scores, title, save=False):\n",
    "    scores = {'scores':[scores[0], scores[1], scores[2]]}\n",
    "\n",
    "    scores_names = ['MAE', 'MSE', 'R2']\n",
    "\n",
    "    fig, ax = plt.subplots(nrows=1, ncols=1, figsize=(6,6))\n",
    "    clr = ('orange','blue', 'green', 'purple', 'red', 'purple')\n",
    "    for idx, mthod in zip([i for i in range(1)], scores.keys()):\n",
    "        ax.bar(scores_names, [round(i,3) for i in scores[mthod]], \n",
    "                               align='center', alpha=1.0, color=clr)\n",
    "        ax.set_yticks([a for a in range(-1,6)])\n",
    "        legends = []\n",
    "        for c in range(len(scores_names)):\n",
    "            legends.append(mpatches.Patch(color=clr[c], label='{}: {}'.format(scores_names[c], \n",
    "                                                                              round(scores[mthod][c],3))))\n",
    "        ax.legend(handles=legends,loc='best')\n",
    "        ax.set_xlabel('Classifiers')\n",
    "        ax.set_ylabel('F1 Scores')\n",
    "    fig.suptitle(title,y=0.96, fontsize=16)\n",
    "    if save:\n",
    "        fig.savefig(save, dpi=300)\n",
    "    plt.show()"
   ]
  },
  {
   "cell_type": "markdown",
   "metadata": {},
   "source": [
    "### Inserting Data"
   ]
  },
  {
   "cell_type": "code",
   "execution_count": 4,
   "metadata": {},
   "outputs": [],
   "source": [
    "data = pd.read_excel(\"2018 algoloji işlemler(Original).xlsx\", sheet_name='ocak-nisan 2018')"
   ]
  },
  {
   "cell_type": "markdown",
   "metadata": {},
   "source": [
    "### To find unique values of cells have more than one value (seperated by '+' | ',' | '/')"
   ]
  },
  {
   "cell_type": "code",
   "execution_count": 5,
   "metadata": {},
   "outputs": [],
   "source": [
    "columns = ['Diagnosis', 'R/L', 'Procedure', 'Approach', 'Steroid (mg)',\n",
    "           r'Bupivakain % 5 (cc)']  # columns that include typos\n",
    "unique_values = {}  # keys, column name: values, unique values have typos\n",
    "for column in columns:\n",
    "    for val in np.unique(data[column].astype('str')):\n",
    "        unique_values.setdefault(column, [])\n",
    "        if \"+\" in val: # in i or \"/\" in i or \",\"\n",
    "            unique_values[column].append(val)\n",
    "splitted_unique_vals = {}  # keys, typos: values, splitted values which typos fixed\n",
    "for key, values in unique_values.items():\n",
    "    for val in values:\n",
    "        splitted_val = re.split('\\+',val) # |,|/ if we want to add more seperated we should add these as well\n",
    "        for idx in range(len(splitted_val)):\n",
    "            try:\n",
    "                splitted_val[idx] = int(splitted_val[idx].strip())\n",
    "            except:\n",
    "                splitted_val[idx] = splitted_val[idx].strip()\n",
    "        splitted_unique_vals[val] = splitted_val\n",
    "        \n",
    "splitted_unique_vals['2+10CC LİDOKAİN'] = [2, 10]"
   ]
  },
  {
   "cell_type": "markdown",
   "metadata": {},
   "source": [
    "### Calculating how many row should belong to same individual with different types\n",
    "\n",
    "Length keeps the number of new samples for one row.\n",
    "We multiply each cell length because each row may have more than one cell includes typos."
   ]
  },
  {
   "cell_type": "code",
   "execution_count": 6,
   "metadata": {},
   "outputs": [],
   "source": [
    "total_counts = {} # keys, row number: values, counts of how many row belongs to same sample\n",
    "counter = -1\n",
    "for row in data.values:\n",
    "    counter += 1\n",
    "    length = 1\n",
    "    for key, value in unique_values.items():\n",
    "        for cell in value:\n",
    "            if cell in row:\n",
    "                length *= len(splitted_unique_vals[cell])\n",
    "    total_counts[counter] = length"
   ]
  },
  {
   "cell_type": "markdown",
   "metadata": {},
   "source": [
    "### To add more sample and change their values with combinations\n",
    "\n",
    "In this case we used combination since we have multiple typos for the same individual.\n",
    "So, multiply the length of the values which a sample has. For example, a sample has LHNP +Adheziv kapsülit value under the diagnosis column and also this sample has TFESI+Omuz İA values under the Procedure column, these values are different and they separated by \"+\". There are 2 values for both Diagnosis and Procedure columns separately, for this reason, we should have 2*2 individuals which each one has combination of these values."
   ]
  },
  {
   "cell_type": "code",
   "execution_count": 7,
   "metadata": {},
   "outputs": [],
   "source": [
    "edited_array = []\n",
    "for row, row_num in zip(data.values, sorted(total_counts)):\n",
    "    new_rows = []\n",
    "    if total_counts[row_num] == 1:\n",
    "        edited_array.append(row)\n",
    "        continue\n",
    "    for len_ in range(total_counts[row_num]):\n",
    "        new_rows.append(row)\n",
    "    for cell in row:\n",
    "        if cell in splitted_unique_vals:\n",
    "            part = len(new_rows)//len(splitted_unique_vals[cell])\n",
    "            start = 0\n",
    "            end = part\n",
    "            for len_ in range(len(splitted_unique_vals[cell])):\n",
    "                for i in range(start,end):\n",
    "                    new_rows[i] = np.where(new_rows[i]==cell, splitted_unique_vals[cell][len_], new_rows[i])\n",
    "                start = end\n",
    "                end += part\n",
    "    edited_array.extend(new_rows)\n",
    "edited_array = np.array(edited_array)"
   ]
  },
  {
   "cell_type": "markdown",
   "metadata": {},
   "source": [
    "### To Clean Some Typos on Data\n",
    "\n",
    "In this part we will takes only number of minutes under the Time column. Also, we will clean some values like \"BL:\", \"BL.\""
   ]
  },
  {
   "cell_type": "code",
   "execution_count": 8,
   "metadata": {
    "scrolled": true
   },
   "outputs": [],
   "source": [
    "edited_data = pd.DataFrame(edited_array, columns = data.columns)\n",
    "\n",
    "new_time_column = []\n",
    "new_steroid_column = []\n",
    "new_height_column = []\n",
    "new_bupivakain_column = []\n",
    "for idx in range(len(edited_data[\"Time\"].values)):\n",
    "    new_time_column.append(int(re.findall(r\"[0-9]+\", edited_data[\"Time\"].values[idx])[0]))\n",
    "    try:\n",
    "        if edited_data[\"Steroid (mg)\"].values[idx] == '80/40':\n",
    "            new_steroid_column.append(80)\n",
    "        else:\n",
    "            new_steroid_column.append(int(re.findall(r\"[0-9]+\", edited_data[\"Steroid (mg)\"].values[idx])[0]))\n",
    "    except:\n",
    "        new_steroid_column.append(edited_data[\"Steroid (mg)\"].values[idx])\n",
    "    try:\n",
    "        new_height_column.append(int(re.findall(r\"[0-9]+\", edited_data[\"Height\"].values[idx])[0]))\n",
    "    except:\n",
    "        if edited_data[\"Height\"].values[idx] > 500:\n",
    "            new_height_column.append(np.nan)\n",
    "        else:\n",
    "            new_height_column.append(edited_data[\"Height\"].values[idx])\n",
    "    try:\n",
    "        new_bupivakain_column.append(int(re.findall(r\"[0-9]+\", edited_data[\"Bupivakain % 5 (cc)\"].values[idx])[0]))\n",
    "    except:\n",
    "        new_bupivakain_column.append(edited_data[\"Bupivakain % 5 (cc)\"].values[idx])\n",
    "\n",
    "edited_data[\"Time\"] = np.array(new_time_column)\n",
    "edited_data[r\"Steroid (mg)\"] = np.array(new_steroid_column)\n",
    "edited_data[\"Height\"] = np.array(new_height_column)\n",
    "edited_data[\"Pain Level - After 1 hour\"] = edited_data[\"Pain Level - After 1 hour\"].replace(\"?\", np.nan)\n",
    "edited_data[\"Bupivakain % 5 (cc)\"] = np.array(new_bupivakain_column)\n",
    "edited_data['Radiation Dose'] = edited_data['Radiation Dose'].replace(['0,7484-0,14039','0,,50234'], [0.14039, 0.50234])"
   ]
  },
  {
   "cell_type": "markdown",
   "metadata": {},
   "source": [
    "Under the age column, written birth date instead of age for some individuals for this part we will convert birth date to age"
   ]
  },
  {
   "cell_type": "code",
   "execution_count": 9,
   "metadata": {},
   "outputs": [],
   "source": [
    "new_age_column = []\n",
    "for age in edited_data['Age']:\n",
    "    try:\n",
    "        if int(age) < 100:\n",
    "            new_age_column.append(int(age))\n",
    "            continue\n",
    "        new_age_column.append(2018-int(age))\n",
    "    except ValueError:\n",
    "        new_age_column.append(np.nan)\n",
    "edited_data['Age'] = np.array(new_age_column)"
   ]
  },
  {
   "cell_type": "code",
   "execution_count": 10,
   "metadata": {},
   "outputs": [],
   "source": [
    "new_rl_column = []\n",
    "for type_ in edited_data['R/L'].values:\n",
    "    try:\n",
    "        new_rl_column.append(type_.upper().strip())\n",
    "    except AttributeError:\n",
    "        new_rl_column.append(np.nan)\n",
    "edited_data['R/L'] = np.array(new_rl_column)\n",
    "edited_data['R/L'] = edited_data['R/L'].replace(['ORT', 'ORT HAT', 'ORTHAT'], 'ORTA HAT')\n",
    "edited_data['R/L'] = edited_data['R/L'].replace(['BL.', 'BL:'], 'BL')\n",
    "edited_data['R/L'] = edited_data['R/L'].replace(['NAN', 'nan'], np.nan)"
   ]
  },
  {
   "cell_type": "markdown",
   "metadata": {},
   "source": [
    "### K-nn based imputation"
   ]
  },
  {
   "cell_type": "code",
   "execution_count": 11,
   "metadata": {},
   "outputs": [],
   "source": [
    "# Categorical Features\n",
    "categorical_data = edited_data[['Diagnosis', 'R/L', 'Procedure', 'Approach']].values # we will take also 'Gender' column later\n",
    "\n",
    "# Numerical Features\n",
    "numerical_data = edited_data[['Age', 'Height', 'Weight', 'Pain Level - Initial', 'Pain Level - After 1 hour',\n",
    "                               'Radiation Dose', 'Citanest % 2 (cc)', 'Bupivakain % 5 (cc)', 'Steroid (mg)',\n",
    "                              'Iohexol 300 mg/ml (cc)']].values"
   ]
  },
  {
   "cell_type": "code",
   "execution_count": 12,
   "metadata": {},
   "outputs": [],
   "source": [
    "# Knn-Based imputatation on categorical features\n",
    "sys.setrecursionlimit(100000) #Increase the recursion limit of the OS\n",
    "edited_knn_categorical = knn_impute(target=categorical_data, attributes=categorical_data,\n",
    "                                    aggregation_method=\"mode\", k_neighbors=30, numeric_distance='euclidean',\n",
    "                                    categorical_distance='hamming', missing_neighbors_threshold=0.8)\n",
    "\n",
    "# Knn-Based imputatation on numerical features\n",
    "edited_knn_numerical = fast_knn(numerical_data.astype('float'), k=30)\n",
    "\n",
    "# To insert data in our edited_data data frame\n",
    "edited_data[['Age', 'Height', 'Weight', 'Pain Level - Initial', 'Pain Level - After 1 hour', 'Radiation Dose',\n",
    "             'Citanest % 2 (cc)', 'Bupivakain % 5 (cc)', 'Steroid (mg)', 'Iohexol 300 mg/ml (cc)']] = edited_knn_numerical\n",
    "\n",
    "edited_data[['Diagnosis', 'R/L', 'Procedure', 'Approach']] = edited_knn_categorical"
   ]
  },
  {
   "cell_type": "markdown",
   "metadata": {},
   "source": [
    "### To get nearest integer value of each cells of columns"
   ]
  },
  {
   "cell_type": "code",
   "execution_count": 13,
   "metadata": {},
   "outputs": [],
   "source": [
    "nearest_integer = np.round(edited_data[['Age', 'Height', 'Weight', 'Pain Level - Initial', 'Pain Level - After 1 hour',\n",
    "             'Citanest % 2 (cc)', 'Bupivakain % 5 (cc)', 'Steroid (mg)', 'Iohexol 300 mg/ml (cc)']].values).astype('int')\n",
    "\n",
    "edited_data[['Age', 'Height', 'Weight', 'Pain Level - Initial', 'Pain Level - After 1 hour',\n",
    "             'Citanest % 2 (cc)', 'Bupivakain % 5 (cc)', 'Steroid (mg)', 'Iohexol 300 mg/ml (cc)']] = nearest_integer\n",
    "\n",
    "edited_data['Radiation Dose'] = np.round(edited_data['Radiation Dose'].values,5)"
   ]
  },
  {
   "cell_type": "code",
   "execution_count": 14,
   "metadata": {},
   "outputs": [],
   "source": [
    "targets = []\n",
    "for initial, after in zip(edited_data[\"Pain Level - Initial\"].values, edited_data[\"Pain Level - After 1 hour\"].values):\n",
    "    targets.append(initial-after)\n",
    "targets = np.ravel(targets)\n",
    "\n",
    "all_features = edited_data[['Gender', 'Diagnosis', 'R/L', 'Procedure', 'Approach', 'Age', 'Height', 'Weight',\n",
    "                        'Pain Level - Initial', 'Radiation Dose', 'Citanest % 2 (cc)', 'Bupivakain % 5 (cc)',\n",
    "                        'Steroid (mg)', 'Iohexol 300 mg/ml (cc)']].values\n",
    "\n",
    "all_columns = ['Gender', 'Diagnosis', 'R/L', 'Procedure', 'Approach', 'Age', 'Height', 'Weight',\n",
    "                        'Pain Level - Initial', 'Radiation Dose', 'Citanest % 2 (cc)', 'Bupivakain % 5 (cc)',\n",
    "                        'Steroid (mg)', 'Iohexol 300 mg/ml (cc)']\n",
    "\n",
    "numerical_features = edited_data[['Age', 'Height', 'Weight', 'Pain Level - Initial', 'Radiation Dose',\n",
    "             'Citanest % 2 (cc)', 'Bupivakain % 5 (cc)', 'Steroid (mg)', 'Iohexol 300 mg/ml (cc)']]\n",
    "\n",
    "categorical_features = edited_data[['Gender', 'Diagnosis', 'R/L', 'Procedure', 'Approach']]"
   ]
  },
  {
   "cell_type": "code",
   "execution_count": 15,
   "metadata": {},
   "outputs": [],
   "source": [
    "# edited_data.to_excel(\"2018 algoloji işlemler(Edited by Huzeyfe (with KNN)).xlsx\")"
   ]
  },
  {
   "cell_type": "markdown",
   "metadata": {},
   "source": [
    "### Applying One-Hot Encoding to handle categorical data and convert numerical data to binary type"
   ]
  },
  {
   "cell_type": "code",
   "execution_count": 16,
   "metadata": {},
   "outputs": [],
   "source": [
    "OneHot_categorical_features_df = pd.get_dummies(categorical_features)\n",
    "OneHot_numerical_features_df = pd.get_dummies(numerical_features, columns=numerical_features.columns)"
   ]
  },
  {
   "cell_type": "markdown",
   "metadata": {},
   "source": [
    "### Calculating MAE, MSE and R2 Scores For Baseline Approach (Using Only Numerical Features)"
   ]
  },
  {
   "cell_type": "code",
   "execution_count": 17,
   "metadata": {},
   "outputs": [],
   "source": [
    "X_train_base, X_test_base, y_train_base, y_test_base = train_test_split(numerical_features.values,\n",
    "                                                                        targets, test_size = 0.3, random_state = 0)"
   ]
  },
  {
   "cell_type": "code",
   "execution_count": 18,
   "metadata": {},
   "outputs": [],
   "source": [
    "baseline_scores = calculate_scores(X_train_base, X_test_base, y_train_base, y_test_base)"
   ]
  },
  {
   "cell_type": "code",
   "execution_count": 19,
   "metadata": {},
   "outputs": [
    {
     "data": {
      "image/png": "[encoded data removed]",
      "text/plain": [
       "<Figure size 432x432 with 1 Axes>"
      ]
     },
     "metadata": {
      "needs_background": "light"
     },
     "output_type": "display_data"
    }
   ],
   "source": [
    "plot_error_scores(baseline_scores, 'MAE, MSE and R2 Error Scores By LR') # if you want to save type save='error_scores_baseline'"
   ]
  },
  {
   "cell_type": "markdown",
   "metadata": {},
   "source": [
    "## Ensemble Models on Data-Set"
   ]
  },
  {
   "cell_type": "markdown",
   "metadata": {},
   "source": [
    "### Majority Voting Regressor"
   ]
  },
  {
   "cell_type": "code",
   "execution_count": 20,
   "metadata": {},
   "outputs": [],
   "source": [
    "pipe1 = Pipeline([['sc', StandardScaler()], ['clf', LogisticRegression(random_state=0)]])\n",
    "clf2 = DecisionTreeRegressor(random_state=0)\n",
    "pipe3 = Pipeline([['sc', StandardScaler()], ['clf', KNeighborsRegressor(n_jobs=-1)]])\n",
    "\n",
    "mjvoting = VotingRegressor(estimators=[('lr',pipe1), ('dt',clf2), ('knn',pipe3)], n_jobs=-1)\n",
    "mjvoting_scores = calculate_scores(X_train_base, X_test_base, y_train_base, y_test_base, classifier=mjvoting)"
   ]
  },
  {
   "cell_type": "code",
   "execution_count": 21,
   "metadata": {
    "scrolled": false
   },
   "outputs": [
    {
     "data": {
      "image/png": "[encoded data removed]",
      "text/plain": [
       "<Figure size 432x432 with 1 Axes>"
      ]
     },
     "metadata": {
      "needs_background": "light"
     },
     "output_type": "display_data"
    }
   ],
   "source": [
    "plot_error_scores(mjvoting_scores, 'MAE, MSE and R2 Error Scores By MajorityVoting') # , save='mvoting'"
   ]
  },
  {
   "cell_type": "markdown",
   "metadata": {},
   "source": [
    "### Adaptive Boosting Regressor"
   ]
  },
  {
   "cell_type": "code",
   "execution_count": 22,
   "metadata": {},
   "outputs": [],
   "source": [
    "ada_boost = AdaBoostRegressor(base_estimator=clf2, n_estimators=500, random_state=0)\n",
    "ada_boost_scores = calculate_scores(X_train_base, X_test_base, y_train_base, y_test_base, classifier=ada_boost)"
   ]
  },
  {
   "cell_type": "code",
   "execution_count": 23,
   "metadata": {},
   "outputs": [
    {
     "data": {
      "image/png": "[encoded data removed]",
      "text/plain": [
       "<Figure size 432x432 with 1 Axes>"
      ]
     },
     "metadata": {
      "needs_background": "light"
     },
     "output_type": "display_data"
    }
   ],
   "source": [
    "plot_error_scores(ada_boost_scores, 'MAE, MSE and R2 Error Scores By AdaBoost') # , save='adaboost'"
   ]
  },
  {
   "cell_type": "markdown",
   "metadata": {},
   "source": [
    "### Bagging Regressor"
   ]
  },
  {
   "cell_type": "code",
   "execution_count": 24,
   "metadata": {},
   "outputs": [],
   "source": [
    "bagging = BaggingRegressor(base_estimator=clf2, n_estimators=500, max_samples=1.0, max_features=1.0,\n",
    "                           bootstrap=True, bootstrap_features=False, n_jobs=-1, random_state=0)\n",
    "bagging_scores = calculate_scores(X_train_base, X_test_base, y_train_base, y_test_base, classifier =bagging)"
   ]
  },
  {
   "cell_type": "code",
   "execution_count": 25,
   "metadata": {},
   "outputs": [
    {
     "data": {
      "image/png": "[encoded data removed]",
      "text/plain": [
       "<Figure size 432x432 with 1 Axes>"
      ]
     },
     "metadata": {
      "needs_background": "light"
     },
     "output_type": "display_data"
    }
   ],
   "source": [
    "plot_error_scores(bagging_scores, 'MAE, MSE and R2 Error Scores By Bagging') # , save='bagging'"
   ]
  },
  {
   "cell_type": "markdown",
   "metadata": {},
   "source": [
    "### Baseline-X Approach (Baseline: Numerical Data, X: Each Categorical Data Separately)"
   ]
  },
  {
   "cell_type": "code",
   "execution_count": 26,
   "metadata": {},
   "outputs": [],
   "source": [
    "X_train_onehot, X_test_onehot, y_train_onehot, y_test_onehot = train_test_split(OneHot_numerical_features_df.values,\n",
    "                                                                        targets, test_size = 0.3, random_state = 0)\n",
    "onehot_scores = calculate_scores(X_train_onehot, X_test_onehot, y_train_onehot, y_test_onehot)"
   ]
  },
  {
   "cell_type": "code",
   "execution_count": 27,
   "metadata": {},
   "outputs": [
    {
     "data": {
      "image/png": "[encoded data removed]",
      "text/plain": [
       "<Figure size 432x432 with 1 Axes>"
      ]
     },
     "metadata": {
      "needs_background": "light"
     },
     "output_type": "display_data"
    }
   ],
   "source": [
    "plot_error_scores(onehot_scores, 'Numerical Values (Encoded)')\n",
    "# if you want to save type , save='encoded_baseline'"
   ]
  },
  {
   "cell_type": "code",
   "execution_count": 28,
   "metadata": {},
   "outputs": [],
   "source": [
    "gender_columns_df = OneHot_categorical_features_df[[clm for clm in OneHot_categorical_features_df if clm.startswith('Gender')]]\n",
    "numerical_and_gender_df = pd.concat([numerical_features, gender_columns_df], axis=1)\n",
    "\n",
    "X_train_gender, X_test_gender, y_train_gender, y_test_gender = train_test_split(numerical_and_gender_df.values,\n",
    "                                                                        targets, test_size = 0.3, random_state = 0)\n",
    "gender_scores = calculate_scores(X_train_gender, X_test_gender, y_train_gender, y_test_gender)"
   ]
  },
  {
   "cell_type": "code",
   "execution_count": 29,
   "metadata": {},
   "outputs": [
    {
     "data": {
      "image/png": "[encoded data removed]",
      "text/plain": [
       "<Figure size 432x432 with 1 Axes>"
      ]
     },
     "metadata": {
      "needs_background": "light"
     },
     "output_type": "display_data"
    }
   ],
   "source": [
    "plot_error_scores(gender_scores, \"Numerical Values (Stock)\\n+Gender Columns (Encoded)\") \n",
    "# if you want to save type , save='stock_baseline_gender'"
   ]
  },
  {
   "cell_type": "code",
   "execution_count": 30,
   "metadata": {},
   "outputs": [],
   "source": [
    "numerical_and_gender2_df = pd.concat([OneHot_numerical_features_df, gender_columns_df], axis=1)\n",
    "\n",
    "X_train_gender2, X_test_gender2, y_train_gender2, y_test_gender2 = train_test_split(numerical_and_gender2_df.values,\n",
    "                                                                        targets, test_size = 0.3, random_state = 0)\n",
    "gender_scores2 = calculate_scores(X_train_gender2, X_test_gender2, y_train_gender2, y_test_gender2)"
   ]
  },
  {
   "cell_type": "code",
   "execution_count": 31,
   "metadata": {},
   "outputs": [
    {
     "data": {
      "image/png": "[encoded data removed]",
      "text/plain": [
       "<Figure size 432x432 with 1 Axes>"
      ]
     },
     "metadata": {
      "needs_background": "light"
     },
     "output_type": "display_data"
    }
   ],
   "source": [
    "plot_error_scores(gender_scores2, \"Numerical Values (Encoded)\\n+Gender Columns (Encoded)\") \n",
    "# if you want to save type save='error_scores_baseline_gender'"
   ]
  }
 ],
 "metadata": {
  "kernelspec": {
   "display_name": "Python 3",
   "language": "python",
   "name": "python3"
  },
  "language_info": {
   "codemirror_mode": {
    "name": "ipython",
    "version": 3
   },
   "file_extension": ".py",
   "mimetype": "text/x-python",
   "name": "python",
   "nbconvert_exporter": "python",
   "pygments_lexer": "ipython3",
   "version": "3.7.3"
  }
 },
 "nbformat": 4,
 "nbformat_minor": 2
}
